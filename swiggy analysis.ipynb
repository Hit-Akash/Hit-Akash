{
 "cells": [
  {
   "cell_type": "code",
   "execution_count": 8,
   "id": "f35048d8-f07d-4b0a-bfc1-a40236811d18",
   "metadata": {},
   "outputs": [
    {
     "data": {
      "text/html": [
       "<div>\n",
       "<style scoped>\n",
       "    .dataframe tbody tr th:only-of-type {\n",
       "        vertical-align: middle;\n",
       "    }\n",
       "\n",
       "    .dataframe tbody tr th {\n",
       "        vertical-align: top;\n",
       "    }\n",
       "\n",
       "    .dataframe thead th {\n",
       "        text-align: right;\n",
       "    }\n",
       "</style>\n",
       "<table border=\"1\" class=\"dataframe\">\n",
       "  <thead>\n",
       "    <tr style=\"text-align: right;\">\n",
       "      <th></th>\n",
       "      <th>ID</th>\n",
       "      <th>Area</th>\n",
       "      <th>City</th>\n",
       "      <th>Restaurant</th>\n",
       "      <th>Price</th>\n",
       "      <th>Avg ratings</th>\n",
       "      <th>Total ratings</th>\n",
       "      <th>Food type</th>\n",
       "      <th>Address</th>\n",
       "      <th>Delivery time</th>\n",
       "    </tr>\n",
       "  </thead>\n",
       "  <tbody>\n",
       "    <tr>\n",
       "      <th>0</th>\n",
       "      <td>211</td>\n",
       "      <td>Koramangala</td>\n",
       "      <td>Bangalore</td>\n",
       "      <td>Tandoor Hut</td>\n",
       "      <td>300</td>\n",
       "      <td>4.4</td>\n",
       "      <td>100</td>\n",
       "      <td>Biryani,Chinese,North Indian,South Indian</td>\n",
       "      <td>5Th Block</td>\n",
       "      <td>59</td>\n",
       "    </tr>\n",
       "    <tr>\n",
       "      <th>1</th>\n",
       "      <td>221</td>\n",
       "      <td>Koramangala</td>\n",
       "      <td>Bangalore</td>\n",
       "      <td>Tunday Kababi</td>\n",
       "      <td>300</td>\n",
       "      <td>4.1</td>\n",
       "      <td>100</td>\n",
       "      <td>Mughlai,Lucknowi</td>\n",
       "      <td>5Th Block</td>\n",
       "      <td>56</td>\n",
       "    </tr>\n",
       "    <tr>\n",
       "      <th>2</th>\n",
       "      <td>246</td>\n",
       "      <td>Jogupalya</td>\n",
       "      <td>Bangalore</td>\n",
       "      <td>Kim Lee</td>\n",
       "      <td>650</td>\n",
       "      <td>4.4</td>\n",
       "      <td>100</td>\n",
       "      <td>Chinese</td>\n",
       "      <td>Double Road</td>\n",
       "      <td>50</td>\n",
       "    </tr>\n",
       "    <tr>\n",
       "      <th>3</th>\n",
       "      <td>248</td>\n",
       "      <td>Indiranagar</td>\n",
       "      <td>Bangalore</td>\n",
       "      <td>New Punjabi Hotel</td>\n",
       "      <td>250</td>\n",
       "      <td>3.9</td>\n",
       "      <td>500</td>\n",
       "      <td>North Indian,Punjabi,Tandoor,Chinese</td>\n",
       "      <td>80 Feet Road</td>\n",
       "      <td>57</td>\n",
       "    </tr>\n",
       "    <tr>\n",
       "      <th>4</th>\n",
       "      <td>249</td>\n",
       "      <td>Indiranagar</td>\n",
       "      <td>Bangalore</td>\n",
       "      <td>Nh8</td>\n",
       "      <td>350</td>\n",
       "      <td>4.0</td>\n",
       "      <td>50</td>\n",
       "      <td>Rajasthani,Gujarati,North Indian,Snacks,Desser...</td>\n",
       "      <td>80 Feet Road</td>\n",
       "      <td>63</td>\n",
       "    </tr>\n",
       "    <tr>\n",
       "      <th>...</th>\n",
       "      <td>...</td>\n",
       "      <td>...</td>\n",
       "      <td>...</td>\n",
       "      <td>...</td>\n",
       "      <td>...</td>\n",
       "      <td>...</td>\n",
       "      <td>...</td>\n",
       "      <td>...</td>\n",
       "      <td>...</td>\n",
       "      <td>...</td>\n",
       "    </tr>\n",
       "    <tr>\n",
       "      <th>8675</th>\n",
       "      <td>464626</td>\n",
       "      <td>Panjarapole Cross Road</td>\n",
       "      <td>Ahmedabad</td>\n",
       "      <td>Malt Pizza</td>\n",
       "      <td>500</td>\n",
       "      <td>2.9</td>\n",
       "      <td>80</td>\n",
       "      <td>Pizzas</td>\n",
       "      <td>Navrangpura</td>\n",
       "      <td>40</td>\n",
       "    </tr>\n",
       "    <tr>\n",
       "      <th>8676</th>\n",
       "      <td>465835</td>\n",
       "      <td>Rohini</td>\n",
       "      <td>Delhi</td>\n",
       "      <td>Jay Mata Ji Home Kitchen</td>\n",
       "      <td>200</td>\n",
       "      <td>2.9</td>\n",
       "      <td>80</td>\n",
       "      <td>South Indian</td>\n",
       "      <td>Rohini</td>\n",
       "      <td>28</td>\n",
       "    </tr>\n",
       "    <tr>\n",
       "      <th>8677</th>\n",
       "      <td>465872</td>\n",
       "      <td>Rohini</td>\n",
       "      <td>Delhi</td>\n",
       "      <td>Chinese Kitchen King</td>\n",
       "      <td>150</td>\n",
       "      <td>2.9</td>\n",
       "      <td>80</td>\n",
       "      <td>Chinese,Snacks,Tandoor</td>\n",
       "      <td>Rohini</td>\n",
       "      <td>58</td>\n",
       "    </tr>\n",
       "    <tr>\n",
       "      <th>8678</th>\n",
       "      <td>465990</td>\n",
       "      <td>Rohini</td>\n",
       "      <td>Delhi</td>\n",
       "      <td>Shree Ram Paratha Wala</td>\n",
       "      <td>150</td>\n",
       "      <td>2.9</td>\n",
       "      <td>80</td>\n",
       "      <td>North Indian,Indian,Snacks</td>\n",
       "      <td>Rohini</td>\n",
       "      <td>28</td>\n",
       "    </tr>\n",
       "    <tr>\n",
       "      <th>8679</th>\n",
       "      <td>466488</td>\n",
       "      <td>Navrangpura</td>\n",
       "      <td>Ahmedabad</td>\n",
       "      <td>Sassy Street</td>\n",
       "      <td>250</td>\n",
       "      <td>2.9</td>\n",
       "      <td>80</td>\n",
       "      <td>Chaat,Snacks,Chinese</td>\n",
       "      <td>Navrangpura</td>\n",
       "      <td>44</td>\n",
       "    </tr>\n",
       "  </tbody>\n",
       "</table>\n",
       "<p>8680 rows × 10 columns</p>\n",
       "</div>"
      ],
      "text/plain": [
       "          ID                    Area       City                Restaurant  \\\n",
       "0        211             Koramangala  Bangalore               Tandoor Hut   \n",
       "1        221             Koramangala  Bangalore             Tunday Kababi   \n",
       "2        246               Jogupalya  Bangalore                   Kim Lee   \n",
       "3        248             Indiranagar  Bangalore         New Punjabi Hotel   \n",
       "4        249             Indiranagar  Bangalore                       Nh8   \n",
       "...      ...                     ...        ...                       ...   \n",
       "8675  464626  Panjarapole Cross Road  Ahmedabad                Malt Pizza   \n",
       "8676  465835                  Rohini      Delhi  Jay Mata Ji Home Kitchen   \n",
       "8677  465872                  Rohini      Delhi      Chinese Kitchen King   \n",
       "8678  465990                  Rohini      Delhi    Shree Ram Paratha Wala   \n",
       "8679  466488             Navrangpura  Ahmedabad              Sassy Street   \n",
       "\n",
       "      Price  Avg ratings  Total ratings  \\\n",
       "0       300          4.4            100   \n",
       "1       300          4.1            100   \n",
       "2       650          4.4            100   \n",
       "3       250          3.9            500   \n",
       "4       350          4.0             50   \n",
       "...     ...          ...            ...   \n",
       "8675    500          2.9             80   \n",
       "8676    200          2.9             80   \n",
       "8677    150          2.9             80   \n",
       "8678    150          2.9             80   \n",
       "8679    250          2.9             80   \n",
       "\n",
       "                                              Food type       Address  \\\n",
       "0             Biryani,Chinese,North Indian,South Indian     5Th Block   \n",
       "1                                      Mughlai,Lucknowi     5Th Block   \n",
       "2                                               Chinese   Double Road   \n",
       "3                  North Indian,Punjabi,Tandoor,Chinese  80 Feet Road   \n",
       "4     Rajasthani,Gujarati,North Indian,Snacks,Desser...  80 Feet Road   \n",
       "...                                                 ...           ...   \n",
       "8675                                             Pizzas   Navrangpura   \n",
       "8676                                       South Indian        Rohini   \n",
       "8677                             Chinese,Snacks,Tandoor        Rohini   \n",
       "8678                         North Indian,Indian,Snacks        Rohini   \n",
       "8679                               Chaat,Snacks,Chinese   Navrangpura   \n",
       "\n",
       "      Delivery time  \n",
       "0                59  \n",
       "1                56  \n",
       "2                50  \n",
       "3                57  \n",
       "4                63  \n",
       "...             ...  \n",
       "8675             40  \n",
       "8676             28  \n",
       "8677             58  \n",
       "8678             28  \n",
       "8679             44  \n",
       "\n",
       "[8680 rows x 10 columns]"
      ]
     },
     "execution_count": 8,
     "metadata": {},
     "output_type": "execute_result"
    }
   ],
   "source": [
    "import pandas as pd\n",
    "swiggy =pd.read_excel(\"swiggy.xlsx\")\n",
    "swiggy"
   ]
  },
  {
   "cell_type": "code",
   "execution_count": 9,
   "id": "23580b4c-8f6f-40f9-8140-9287545c10a9",
   "metadata": {},
   "outputs": [
    {
     "data": {
      "text/html": [
       "<div>\n",
       "<style scoped>\n",
       "    .dataframe tbody tr th:only-of-type {\n",
       "        vertical-align: middle;\n",
       "    }\n",
       "\n",
       "    .dataframe tbody tr th {\n",
       "        vertical-align: top;\n",
       "    }\n",
       "\n",
       "    .dataframe thead th {\n",
       "        text-align: right;\n",
       "    }\n",
       "</style>\n",
       "<table border=\"1\" class=\"dataframe\">\n",
       "  <thead>\n",
       "    <tr style=\"text-align: right;\">\n",
       "      <th></th>\n",
       "      <th>ID</th>\n",
       "      <th>Area</th>\n",
       "      <th>City</th>\n",
       "      <th>Restaurant</th>\n",
       "      <th>Price</th>\n",
       "      <th>Avg ratings</th>\n",
       "      <th>Total ratings</th>\n",
       "      <th>Food type</th>\n",
       "      <th>Address</th>\n",
       "      <th>Delivery time</th>\n",
       "    </tr>\n",
       "  </thead>\n",
       "  <tbody>\n",
       "    <tr>\n",
       "      <th>0</th>\n",
       "      <td>211</td>\n",
       "      <td>Koramangala</td>\n",
       "      <td>Bangalore</td>\n",
       "      <td>Tandoor Hut</td>\n",
       "      <td>300</td>\n",
       "      <td>4.4</td>\n",
       "      <td>100</td>\n",
       "      <td>Biryani,Chinese,North Indian,South Indian</td>\n",
       "      <td>5Th Block</td>\n",
       "      <td>59</td>\n",
       "    </tr>\n",
       "    <tr>\n",
       "      <th>1</th>\n",
       "      <td>221</td>\n",
       "      <td>Koramangala</td>\n",
       "      <td>Bangalore</td>\n",
       "      <td>Tunday Kababi</td>\n",
       "      <td>300</td>\n",
       "      <td>4.1</td>\n",
       "      <td>100</td>\n",
       "      <td>Mughlai,Lucknowi</td>\n",
       "      <td>5Th Block</td>\n",
       "      <td>56</td>\n",
       "    </tr>\n",
       "    <tr>\n",
       "      <th>2</th>\n",
       "      <td>246</td>\n",
       "      <td>Jogupalya</td>\n",
       "      <td>Bangalore</td>\n",
       "      <td>Kim Lee</td>\n",
       "      <td>650</td>\n",
       "      <td>4.4</td>\n",
       "      <td>100</td>\n",
       "      <td>Chinese</td>\n",
       "      <td>Double Road</td>\n",
       "      <td>50</td>\n",
       "    </tr>\n",
       "    <tr>\n",
       "      <th>3</th>\n",
       "      <td>248</td>\n",
       "      <td>Indiranagar</td>\n",
       "      <td>Bangalore</td>\n",
       "      <td>New Punjabi Hotel</td>\n",
       "      <td>250</td>\n",
       "      <td>3.9</td>\n",
       "      <td>500</td>\n",
       "      <td>North Indian,Punjabi,Tandoor,Chinese</td>\n",
       "      <td>80 Feet Road</td>\n",
       "      <td>57</td>\n",
       "    </tr>\n",
       "    <tr>\n",
       "      <th>4</th>\n",
       "      <td>249</td>\n",
       "      <td>Indiranagar</td>\n",
       "      <td>Bangalore</td>\n",
       "      <td>Nh8</td>\n",
       "      <td>350</td>\n",
       "      <td>4.0</td>\n",
       "      <td>50</td>\n",
       "      <td>Rajasthani,Gujarati,North Indian,Snacks,Desser...</td>\n",
       "      <td>80 Feet Road</td>\n",
       "      <td>63</td>\n",
       "    </tr>\n",
       "  </tbody>\n",
       "</table>\n",
       "</div>"
      ],
      "text/plain": [
       "    ID         Area       City         Restaurant  Price  Avg ratings  \\\n",
       "0  211  Koramangala  Bangalore        Tandoor Hut    300          4.4   \n",
       "1  221  Koramangala  Bangalore      Tunday Kababi    300          4.1   \n",
       "2  246    Jogupalya  Bangalore            Kim Lee    650          4.4   \n",
       "3  248  Indiranagar  Bangalore  New Punjabi Hotel    250          3.9   \n",
       "4  249  Indiranagar  Bangalore                Nh8    350          4.0   \n",
       "\n",
       "   Total ratings                                          Food type  \\\n",
       "0            100          Biryani,Chinese,North Indian,South Indian   \n",
       "1            100                                   Mughlai,Lucknowi   \n",
       "2            100                                            Chinese   \n",
       "3            500               North Indian,Punjabi,Tandoor,Chinese   \n",
       "4             50  Rajasthani,Gujarati,North Indian,Snacks,Desser...   \n",
       "\n",
       "        Address  Delivery time  \n",
       "0     5Th Block             59  \n",
       "1     5Th Block             56  \n",
       "2   Double Road             50  \n",
       "3  80 Feet Road             57  \n",
       "4  80 Feet Road             63  "
      ]
     },
     "execution_count": 9,
     "metadata": {},
     "output_type": "execute_result"
    }
   ],
   "source": [
    "swiggy.head()"
   ]
  },
  {
   "cell_type": "code",
   "execution_count": 10,
   "id": "4674958a-39ae-420e-a6e6-97214305198d",
   "metadata": {},
   "outputs": [
    {
     "data": {
      "text/html": [
       "<div>\n",
       "<style scoped>\n",
       "    .dataframe tbody tr th:only-of-type {\n",
       "        vertical-align: middle;\n",
       "    }\n",
       "\n",
       "    .dataframe tbody tr th {\n",
       "        vertical-align: top;\n",
       "    }\n",
       "\n",
       "    .dataframe thead th {\n",
       "        text-align: right;\n",
       "    }\n",
       "</style>\n",
       "<table border=\"1\" class=\"dataframe\">\n",
       "  <thead>\n",
       "    <tr style=\"text-align: right;\">\n",
       "      <th></th>\n",
       "      <th>ID</th>\n",
       "      <th>Area</th>\n",
       "      <th>City</th>\n",
       "      <th>Restaurant</th>\n",
       "      <th>Price</th>\n",
       "      <th>Avg ratings</th>\n",
       "      <th>Total ratings</th>\n",
       "      <th>Food type</th>\n",
       "      <th>Address</th>\n",
       "      <th>Delivery time</th>\n",
       "    </tr>\n",
       "  </thead>\n",
       "  <tbody>\n",
       "    <tr>\n",
       "      <th>8675</th>\n",
       "      <td>464626</td>\n",
       "      <td>Panjarapole Cross Road</td>\n",
       "      <td>Ahmedabad</td>\n",
       "      <td>Malt Pizza</td>\n",
       "      <td>500</td>\n",
       "      <td>2.9</td>\n",
       "      <td>80</td>\n",
       "      <td>Pizzas</td>\n",
       "      <td>Navrangpura</td>\n",
       "      <td>40</td>\n",
       "    </tr>\n",
       "    <tr>\n",
       "      <th>8676</th>\n",
       "      <td>465835</td>\n",
       "      <td>Rohini</td>\n",
       "      <td>Delhi</td>\n",
       "      <td>Jay Mata Ji Home Kitchen</td>\n",
       "      <td>200</td>\n",
       "      <td>2.9</td>\n",
       "      <td>80</td>\n",
       "      <td>South Indian</td>\n",
       "      <td>Rohini</td>\n",
       "      <td>28</td>\n",
       "    </tr>\n",
       "    <tr>\n",
       "      <th>8677</th>\n",
       "      <td>465872</td>\n",
       "      <td>Rohini</td>\n",
       "      <td>Delhi</td>\n",
       "      <td>Chinese Kitchen King</td>\n",
       "      <td>150</td>\n",
       "      <td>2.9</td>\n",
       "      <td>80</td>\n",
       "      <td>Chinese,Snacks,Tandoor</td>\n",
       "      <td>Rohini</td>\n",
       "      <td>58</td>\n",
       "    </tr>\n",
       "    <tr>\n",
       "      <th>8678</th>\n",
       "      <td>465990</td>\n",
       "      <td>Rohini</td>\n",
       "      <td>Delhi</td>\n",
       "      <td>Shree Ram Paratha Wala</td>\n",
       "      <td>150</td>\n",
       "      <td>2.9</td>\n",
       "      <td>80</td>\n",
       "      <td>North Indian,Indian,Snacks</td>\n",
       "      <td>Rohini</td>\n",
       "      <td>28</td>\n",
       "    </tr>\n",
       "    <tr>\n",
       "      <th>8679</th>\n",
       "      <td>466488</td>\n",
       "      <td>Navrangpura</td>\n",
       "      <td>Ahmedabad</td>\n",
       "      <td>Sassy Street</td>\n",
       "      <td>250</td>\n",
       "      <td>2.9</td>\n",
       "      <td>80</td>\n",
       "      <td>Chaat,Snacks,Chinese</td>\n",
       "      <td>Navrangpura</td>\n",
       "      <td>44</td>\n",
       "    </tr>\n",
       "  </tbody>\n",
       "</table>\n",
       "</div>"
      ],
      "text/plain": [
       "          ID                    Area       City                Restaurant  \\\n",
       "8675  464626  Panjarapole Cross Road  Ahmedabad                Malt Pizza   \n",
       "8676  465835                  Rohini      Delhi  Jay Mata Ji Home Kitchen   \n",
       "8677  465872                  Rohini      Delhi      Chinese Kitchen King   \n",
       "8678  465990                  Rohini      Delhi    Shree Ram Paratha Wala   \n",
       "8679  466488             Navrangpura  Ahmedabad              Sassy Street   \n",
       "\n",
       "      Price  Avg ratings  Total ratings                   Food type  \\\n",
       "8675    500          2.9             80                      Pizzas   \n",
       "8676    200          2.9             80                South Indian   \n",
       "8677    150          2.9             80      Chinese,Snacks,Tandoor   \n",
       "8678    150          2.9             80  North Indian,Indian,Snacks   \n",
       "8679    250          2.9             80        Chaat,Snacks,Chinese   \n",
       "\n",
       "          Address  Delivery time  \n",
       "8675  Navrangpura             40  \n",
       "8676       Rohini             28  \n",
       "8677       Rohini             58  \n",
       "8678       Rohini             28  \n",
       "8679  Navrangpura             44  "
      ]
     },
     "execution_count": 10,
     "metadata": {},
     "output_type": "execute_result"
    }
   ],
   "source": [
    "swiggy.tail()"
   ]
  },
  {
   "cell_type": "code",
   "execution_count": 73,
   "id": "b532e9ef-a3c9-41ff-85a9-8cf0032f36a5",
   "metadata": {},
   "outputs": [],
   "source": [
    "# This Python 3 environment comes with many helpful analytics libraries installed\n",
    "# It is defined by the kaggle/python Docker image: https://github.com/kaggle/docker-python\n",
    "# For example, here's several helpful packages to load\n",
    "\n",
    "import numpy as np # linear algebra\n",
    "import pandas as pd # data processing, CSV file I/O (e.g. pd.read_csv)\n",
    "\n",
    "# Input data files are available in the read-only \"../input/\" directory\n",
    "# For example, running this (by clicking run or pressing Shift+Enter) will list all files under the input directory\n",
    "\n",
    "import os\n",
    "for dirname, _, filenames in os.walk('/kaggle/input'):\n",
    "    for filename in filenames:\n",
    "        print(os.path.join(dirname, filename))\n",
    "\n",
    "# You can write up to 20GB to the current directory (/kaggle/working/) that gets preserved as output when you create a version using \"Save & Run All\" \n",
    "# You can also write temporary files to /kaggle/temp/, but they won't be saved outside of the current session\n"
   ]
  },
  {
   "cell_type": "code",
   "execution_count": 11,
   "id": "846224d6-953a-4ea8-a9e5-14a8623f3d7c",
   "metadata": {},
   "outputs": [],
   "source": [
    "import numpy as np \n",
    "import pandas as pd\n",
    "import matplotlib.pyplot as plt\n",
    "import seaborn as sns"
   ]
  },
  {
   "cell_type": "code",
   "execution_count": 79,
   "id": "5d71eba8-b9ee-4b6d-975c-a4ec518a6654",
   "metadata": {},
   "outputs": [
    {
     "name": "stdout",
     "output_type": "stream",
     "text": [
      "<class 'pandas.core.frame.DataFrame'>\n",
      "RangeIndex: 8680 entries, 0 to 8679\n",
      "Data columns (total 10 columns):\n",
      " #   Column         Non-Null Count  Dtype  \n",
      "---  ------         --------------  -----  \n",
      " 0   ID             8680 non-null   int64  \n",
      " 1   Area           8680 non-null   object \n",
      " 2   City           8680 non-null   object \n",
      " 3   Restaurant     8680 non-null   object \n",
      " 4   Price          8680 non-null   int64  \n",
      " 5   Avg ratings    8680 non-null   float64\n",
      " 6   Total ratings  8680 non-null   int64  \n",
      " 7   Food type      8680 non-null   object \n",
      " 8   Address        8680 non-null   object \n",
      " 9   Delivery time  8680 non-null   int64  \n",
      "dtypes: float64(1), int64(4), object(5)\n",
      "memory usage: 678.3+ KB\n"
     ]
    }
   ],
   "source": [
    "swiggy.info()"
   ]
  },
  {
   "cell_type": "markdown",
   "id": "eab710b0-960c-4147-ae9f-a8fcc495c7e8",
   "metadata": {},
   "source": [
    "# Overall understanding of data:"
   ]
  },
  {
   "cell_type": "code",
   "execution_count": 82,
   "id": "5f60aa80-6985-4bf5-b3fd-ee4c0e1f438f",
   "metadata": {},
   "outputs": [],
   "source": [
    "# ID- Unique order id for each order\n",
    "\n",
    "# Area- Area from where order is placed\n",
    "\n",
    "# City- City of order being placed\n",
    "\n",
    "# Restaurant- Restaurant from where order is being placed\n",
    "\n",
    "# Price- price per order\n",
    "\n",
    "# Avg ratings- Average rating of the order\n",
    "\n",
    "# Total ratings- Total number of ratings received\n",
    "\n",
    "# Food type- Type of food served by the restaurant\n",
    "\n",
    "#  Address- Address from where customer has placed orde\n",
    "\n",
    "# Delivery time- Time Taken to deliver the order to consumers"
   ]
  },
  {
   "cell_type": "code",
   "execution_count": 19,
   "id": "76859e37-89c4-4c3b-ae25-510c7fa57706",
   "metadata": {},
   "outputs": [
    {
     "data": {
      "text/plain": [
       "ID               0\n",
       "Area             0\n",
       "City             0\n",
       "Restaurant       0\n",
       "Price            0\n",
       "Avg ratings      0\n",
       "Total ratings    0\n",
       "Food type        0\n",
       "Address          0\n",
       "Delivery time    0\n",
       "dtype: int64"
      ]
     },
     "execution_count": 19,
     "metadata": {},
     "output_type": "execute_result"
    }
   ],
   "source": [
    "swiggy.isnull().sum()"
   ]
  },
  {
   "cell_type": "code",
   "execution_count": 21,
   "id": "a9576125-f779-4bb6-aa62-4c16d337423a",
   "metadata": {},
   "outputs": [
    {
     "data": {
      "text/plain": [
       "array(['Koramangala', 'Jogupalya', 'Indiranagar', 'Domlur', 'Cooke Town',\n",
       "       'Pulikeshi Nagar', 'Sivanchetti Gardens', 'Kodihalli', 'Jayanagar',\n",
       "       'Film Nagar', 'Banashankari', 'Masab Tank', 'Banjara Hills',\n",
       "       'Andheri East', 'Powai', 'Punjagutta', 'Aundh', 'Baner',\n",
       "       'Powai Area', 'Ramgopalpet', 'Kalasiguda', 'Adarsh Nagar',\n",
       "       'Himayatnagar', 'Ashok Nagar', 'Commercial Street',\n",
       "       'Richmond Town', 'Vasanth Nagar', 'Bhowanipore', 'Ballygunge',\n",
       "       'Gariahat', 'Kalighat', 'Sion', 'Mumbai', 'Rajajinagar', 'Golpark',\n",
       "       'Shivajinagar', 'Koregaon Park', 'Deccan Gymkhana', 'Karkhana',\n",
       "       'Kothrud', 'Erandwane', 'Koti', 'Dilsukhnagar', 'Nagole',\n",
       "       'Chandrapuri Colony', 'Kothapet', 'Narayanguda', 'Fc Road',\n",
       "       'Park Street Area', 'Beniapukur', 'Bidhannagar', 'New Nallakunta',\n",
       "       'Adikmet', 'Amberpet', 'Karve Nagar', 'Agarkar Nagar', 'Mundhwa',\n",
       "       'Mohammed Wadi', 'Bandra Area', 'Paschim Vihar', 'Malleshwaram',\n",
       "       'Lakdikapul', 'Camp', 'Antop Hill', 'New Tippasandra',\n",
       "       'Bhawani Peth', 'Basheer Bagh', 'Kalyani Nagar', 'Shankarapura',\n",
       "       'Elgin', 'Kurla West', 'Saki Naka', 'Teynampet', 'Nandanam',\n",
       "       'Langford Gardens', 'Abids', 'Santacruz East', 'Khairtabad',\n",
       "       'Vishnu Garden', 'Beleghata', 'Lake Town', 'Gopalapuram',\n",
       "       'Alwarpet', 'Mylapore', 'Central Markt Punjabi Bagh', 'Pashan',\n",
       "       'South Kolkata', 'Kotturpuram', 'Habsiguda', 'Uppal',\n",
       "       'Punjabi Bagh', 'Kasba', 'Barabazar Market', 'Manicktala',\n",
       "       'Maniktala', 'Esplanade', 'Kankurgachi', 'Thousand Lights',\n",
       "       'Taltala', 'West Marredpally', 'Powaiandheri East', 'Nungambakkam',\n",
       "       'Murad Nagar', 'Redhills', 'Vadapalani', 'Garfa', 'Kondhwa',\n",
       "       'T. Nagar', 'Marol Sakinaka', 'Pitampura', 'Pitam Pura',\n",
       "       'Near Rupbani Cinema', 'East Kolkata Township', 'Somajiguda',\n",
       "       'Anna Nagar', 'Kilpauk', 'Rohini', 'Sector 7 Rohini',\n",
       "       'Sector 8 Rohini', 'Prashant Vihar Rohini', 'Sector 14 Rohini',\n",
       "       'Shyam Bazar', 'Jodhpur Park', 'Kachiguda', 'Visharant Wadi',\n",
       "       'Bkc', 'Near 7 Point Crossing', 'Gultekdi', 'Hadapsar',\n",
       "       'Kodambakkam', 'Bibwewadi', 'Khar West', 'Gandhi Nagar', 'Chembur',\n",
       "       'Sector 11 Rohini', 'Wanowrie', 'Kasba Peth', 'Royapettah',\n",
       "       'Sector 10 Rohini', 'College Square', 'Shalimar Bagh', 'Jayamahal',\n",
       "       'New Alipore', 'Chetpet', 'Madhura Nagar', 'Aminjikarai',\n",
       "       'Wadgaon Sheri', 'Anand Nagar', 'Dum Dum', 'Poongavanapuram',\n",
       "       'Egmore', 'Yerawada', 'Choolaimedu', 'Sadashiv Peth', 'Sangamvadi',\n",
       "       'Shobhabazar', 'Tangra', 'Opp Padmashree Movie Hall',\n",
       "       'Sarat Bose Rd', 'Purasaiwakkam', 'Cit Nagar', 'Annanagar East',\n",
       "       'Chennai', 'Ghatkopar East', 'Ganganagar', 'Huda Complex',\n",
       "       'Ramesh Nagar', 'Tiljala', 'Near City Centre 1 Petrol Pump',\n",
       "       'West Mambalam', 'Delhi', 'Narhe', 'Bentinck St.',\n",
       "       'Shyambazar Crossing', 'Near Gurudas Park', 'Machuabazar',\n",
       "       'Sinhgad Road', 'Mangawadi', 'Shaniwar Peth', 'Bowbazar',\n",
       "       'Alipore', 'Central Market Punjabi Bagh', 'Ghatkopar West',\n",
       "       'Anna Nagar West Extension', 'Kurla', 'Old Sangvi', 'Sreebhumi',\n",
       "       'Tilak Nagar', 'Sector 3 Rohini', 'Basavanagudi', 'Sainik Vihar',\n",
       "       'Balavinayagar Nagar', 'Arumbakkam', 'Tagore Garden Extension',\n",
       "       'Krishna Park Tilak Nagar', 'Gokhalenagar', 'Lullanagar',\n",
       "       'Range Hills', 'Chiriamore', 'Sinthee', 'Kolkata', 'Nampally',\n",
       "       'Kalina', 'Maharshi Nagar', 'Mukti Nagar', 'Central Bangalore',\n",
       "       'Dhankawadi', 'Maniktala Main Rd', 'Gobra',\n",
       "       'Behra Enclave Paschim Vihar', 'Entally', 'Santacruz West',\n",
       "       'Jyothi Nagar', 'Vadgaon Budruk', 'Matunga', 'Tarnaka', 'Bopodi',\n",
       "       'Mehdipatnam', 'Ultadanga',\n",
       "       'Ruby Area  Kasba  East Kolkata Township', 'Chetla', 'Toli Chowki',\n",
       "       'Central Kolkata', 'Himayath Nagar', 'Jadavpur', 'Bandra West',\n",
       "       'Rasta Peth', 'Selimpur', 'South Dumdum', 'Raja Annamalai Puram',\n",
       "       'T Nagar', 'Shivaji Nagar', 'Malleswaram', 'Central Banglore',\n",
       "       'Sector 9 Rohini', 'Seshadripuram', 'Perambur', 'Karam Pura',\n",
       "       'Zamistanpur', 'Kurla - Mumbai', 'Bandra East', 'Broad Street',\n",
       "       'Sarvagnanagar', 'Bn Reddy Nagar', 'Paikpara', 'Kavadiguda',\n",
       "       'George Town', 'Haltu', 'Sheela Vihar Colony', 'Tingre Nagar',\n",
       "       'Ameerpet', 'Dumdum', 'Navrangpura', 'Ellisbridge',\n",
       "       'University Area', 'Vastrapur', 'Memnagar', 'College Street',\n",
       "       'Benson Town', 'Sector 2 Rohini', 'Ramdev Nagar', 'Usmanpura',\n",
       "       'Lal Bazar', 'Adugodi', 'Anna Salai', 'Lake Gardens',\n",
       "       'Sastri Nager', 'Kodungaiyur', 'Ulsoor', 'Triplicane', 'Majestic',\n",
       "       'Old Malakpet', 'Malakpet', 'Bodakdev', 'Tiretti',\n",
       "       'Old Washermanpet', 'Paldi', 'Juhapura', 'Sector 13 Rohini',\n",
       "       'Sri Hanuman Nagar Colony', 'Dhakuria', 'Chanchalguda',\n",
       "       'Budh Vihar', 'A Unit Of M/S Cohort  Ruby Area', 'Gulbai Tekra',\n",
       "       'Asalpha', 'Kalas', 'Danilimda', 'Ahmedabad', 'Gurukul',\n",
       "       'Salt Lake Area', 'Ashok Vihar', 'Santosh Nagar', 'Warje',\n",
       "       'Jm Road', 'Saidabad', 'Khokhra', 'Topsia', 'Ambawadi',\n",
       "       'Baranagar', 'Ejipura', 'Royapuram', 'Salunkhe Vihar',\n",
       "       'Humayun Nagar', 'Vishrantwadi', 'New Mallepally', 'Washermanpet',\n",
       "       'New Malakpet', 'Motera', 'Thaltej', 'Santoshpur',\n",
       "       'Subhash Nagar Petrol Pump', 'Uttam Nagar', 'Govandi East',\n",
       "       'Narayan Peth', 'Vyasarpadi', 'Salt Lake City', 'Khanpur',\n",
       "       'Lal Darwaja', 'Laldarwaja', 'Modi Colony', 'Sagrampura', 'Athwa',\n",
       "       'Cossipore', 'Bhadra', 'Block Gg1 Vikaspuri', 'Shahpur', 'Piplod',\n",
       "       'Vikhroli', 'Annanagar', 'Varachha', 'Bharthana', 'Bowenpally',\n",
       "       'Ayanavaram', 'Begampura', 'Sion Bhakti Park', 'Raja Bazar',\n",
       "       'Adajan', 'Yousufguda', 'Choolai', 'Ghorpadi', 'Kolathur',\n",
       "       'Sanjeeva Reddy Nagar', 'Vijayanagar', 'Vijaya Nagar Colony',\n",
       "       'Sector 8  Rohini', 'Khamasa', 'Moghalpura', 'Lal Darwaza',\n",
       "       'Charminar', 'Raikhad', 'Kothapet & Dilsukhnagar', 'Gopipura',\n",
       "       'Chamrajpet', 'Padmarao Nagar', 'Jamalia', 'Vesu', 'Golf Green',\n",
       "       'Palanpur', 'Jodhpur Village', 'Baguihati', 'New Magdalla',\n",
       "       'Parvati Paytha', 'Ghansi Bazaar', 'Aliabad', 'Madannapet Colony',\n",
       "       'Umarwada', 'Behala', 'Langar Houz', 'Khilwat', 'Jam Bagh',\n",
       "       'Koramangala - Bangalore', 'Punjab Bagh', 'Satellite', 'Shahpore',\n",
       "       'Guru Nanak Nagar', 'Khatodra Wadi', 'Tolichowki', 'Nanpura',\n",
       "       'Boudhanagar Colony', 'Dahin Nagar', 'Begumpet', 'Sector 37',\n",
       "       'Hindustan Park', 'Wanwadi', 'Srirampura', 'Sayedpura',\n",
       "       'Azad Nagar', 'Budhwar Peth', 'Thirunagar Signal Vadapalani',\n",
       "       'Annamalai Colony', 'Hyderabad', 'Wadgaon Budruk Tilak Road',\n",
       "       'Amroli', 'Tala', 'Sovabazar', 'New Rander Road',\n",
       "       'Palanpur Jakatnaka', 'Rander', 'Chowk Bazar',\n",
       "       'Mahadev Nagar Tekra', 'Chandrayangutta', 'Dharavi', 'Ghatkopar',\n",
       "       'Kestopur', 'Darulshifa', 'Yakutpura', 'Saijpur Bogha', 'Bhimrad',\n",
       "       'Express Avenue Mall', 'Shenoy Nagar', 'Moti Nagar',\n",
       "       'Sudhama Nagar', 'Pathar Gatti', 'Victoria Layout',\n",
       "       'Sector 6 Rohini', 'Hatibagan', 'Sangvi', 'Haripura',\n",
       "       'Gaddiannaram', 'Kuber Nagar', 'Surat', 'Sector 1 Rohini',\n",
       "       'Isanpur', 'Ganga Dham', 'Swargate', 'Ambavadi', 'Tad Bun',\n",
       "       'Park Circus', 'Hedua', 'Guttahalli', 'Sector 51',\n",
       "       'Sampangiram Nagar', 'Parvat Patiya', 'Begampur',\n",
       "       'Lnt Mall Musarambagh', 'Salt Lake', 'J.C.Nagar', 'Palanpur Patia',\n",
       "       'Tondiarpet', 'Althan', 'Vastral', 'Kapodra Patiya', 'Jorasanko',\n",
       "       'Marol', 'Jubilee Hills', 'Wilson Garden', 'Phoenix Mall',\n",
       "       'Mukherjee Nagar', 'Tollygunge', 'Talab Katta',\n",
       "       'Scruz Bandra East', 'Katraj', 'Shah-E-Alam Roja', 'Adajan Patiya',\n",
       "       'Ponniammanmedu', 'Sakivihar', 'Shyamal',\n",
       "       'Near Lal Gate Ramlal Bazarsapuipara', 'Dapodi', 'Periyamet',\n",
       "       'Maninagar', 'Vijay Nagar Colony', 'Udhna', 'Gowliguda',\n",
       "       'Asif Nagar', 'Santacruz', 'Frazer Town', 'Magarpatta',\n",
       "       'Sector 73', 'Dudheshwar', 'Kharkhana & Trimulgherry',\n",
       "       'Katad Khana', 'Balkampet', 'Vakola', 'Gowlipura', 'Vatva',\n",
       "       'Ahiritola', 'Sadar Bazaar', 'Jogeshwari East',\n",
       "       'Southern Avenue Gariahat', 'Kothapet & Dilshuknagar',\n",
       "       'Navsari Bazaar', 'Viveka Nagar', 'Vikhroli West',\n",
       "       'Kondhwa Budruk', 'Dabholi', 'Athwa Station Road', 'Burrabazar',\n",
       "       'Mmda Colony', 'Nava Vadaj', 'Narolgam', 'Villivakkam', 'Nacharam',\n",
       "       'Drive In Road', 'Someshwarpura', 'Broadway Mall', 'Nana Varachha',\n",
       "       'Purba Barisha', 'Mota Varachha', 'Narayan Nagar', 'Jivraj Park',\n",
       "       'Sampangi Rama Nagar', 'Brindavan Colony', 'Sherkotda',\n",
       "       'Sheshadripuram', 26, 'Sec-9 Rohini', 'Kiran Nagar', 'Neelasandra',\n",
       "       'Ranip', 'Garodia Nagar', 'B.B.D. Bagh', 'Vile Parle',\n",
       "       'Pacific Mall Subhash Nagar', 'Dum Dum Park', 'Malkajgiri',\n",
       "       'Jodhpur', 'Bally', 'Bavdhan', 'Acher', 'Chintadripet',\n",
       "       'Madhavaram', 'Ea Mall Royapettah', 'Nagerbazar', 'Chickpet',\n",
       "       'New Gayatri Nagar', 'Rajouri Garden', 'Narotam Nagar', 'Kustia',\n",
       "       'Lb Nagar', 'Nava Naroda', 'Vishala', 'Purasawalkam', 'Santhome',\n",
       "       'Jorabagan', 'Naranpura', 'Magdalla', 'Cox Town', 'Paharganj',\n",
       "       'Sector 16 Rohini', 'Khar East', 'Kurla (W)', 'Khadia', 'Ambegaon',\n",
       "       'Bosepukur', 'Magob', 'Shakurpur', 'Nehrunagar', 'Chanakyapuri',\n",
       "       'Rohini - Sector 16', 'Tiruvalleeswarar Nagar', 'Gunrock Enclave',\n",
       "       'Nagarathpete', 'Chudi Bazaar', 'Koregoan Park', 'Himayat Nagar',\n",
       "       'Hakimpet', 'Feelkhana', 'Golconda Fort', 'Patel  Nagar',\n",
       "       'Velly View Enclave', 'Viman Nagar', 'Ramnas Pura',\n",
       "       'Saki Naka   Andheri East', 'Huda Colony', 'Peerzadiguda',\n",
       "       'Rt Nagar', 'North Dumdum', 'Jodhpur Tekra', 'Sector 29',\n",
       "       'Sector 8', 'Sri Sai Tarun Enclave', 'Ruby Area', 'Rajarhat',\n",
       "       'Mandaveli', 'Koyambedu', 'Shukrawar Peth', 'Chintal',\n",
       "       'Wallace Garden', 'Belgachia', 'Moosarambagh', 'Sima Nagar',\n",
       "       'Baguiati', 'Peravallur', 'Pal Gam', 'Patel Nagar',\n",
       "       'Marol Maroshi Road', 'L.P.Savani', 'Sarkhej Road',\n",
       "       'Sector V Salt Lake', 'Bandra Kurla Complex', 'Sarvodaya Colony',\n",
       "       'Matunga Wadala', 'Somajiguda & Khairtabad',\n",
       "       'Nehru Stadium Dark Kitchen Metro Manor Sydenhams',\n",
       "       'Santoshnagar & Saidabad', 'Abids & Koti', 'Near Rto Pal Gam',\n",
       "       'Kirti Nagar', 'Tarnaka  Nacharam & Malkajigiri',\n",
       "       'Santacruz Bandra East', 'Tarnaka Nacharam & Malkajigiri', 'Nsp',\n",
       "       'A.S. Rao Nagar & Sainikpuri', 'Kidderpore', 'Juhu',\n",
       "       'Nallakunta & Vidyanagar', 'Ghatkopar Vikhroli',\n",
       "       'Basaveshwaranagar', 'Lakdi Ka Pul', 'Chandkheda', 'Sarthana',\n",
       "       'Shantinagar', 'Paldi & Ambawadi', 'Chowpati  Athwa',\n",
       "       'Old Wasermenpet', 'Battarahalli', 'Law College Road',\n",
       "       'Sion Koliwada', 'Lower Parel Worli',\n",
       "       'Dr.Radhakrishnan Salai-Mylapore', 'Jodhpur Cross Road',\n",
       "       'Vidyanagar', 'Kausar Baugh Nibm Road',\n",
       "       'Tolichowki Hps Kids School Opposite', 'Halsuru', 'L.B Nagar',\n",
       "       'Vasna', 'Borough', 'Janakpuri', 'Sithaphalmandi',\n",
       "       'Srinivas Towers', 'Dhole Patil Road', 'Appa Balwant Chowk Pune',\n",
       "       'Mahalaxmi Rd', 'Bong Chinese Ruby Area',\n",
       "       'Wazirpur Industrial Area', 'Beltala Road', 'Girish Park',\n",
       "       'Bldg No15 /402  Aniket Building  Shivaji Nagar', 'Pitampara',\n",
       "       'Rajouri Garden Extension', 'Kakurgachi', 'Ekdalia', 'Ghatlodia',\n",
       "       'Sector -15', 'Safal Square Vesu', 'Salt Lake - Kolkata',\n",
       "       'Rani Bagh', 'Puna Patia', 'Ultadanga Telenga Bagan',\n",
       "       'Cunningham Road', 'Mantri Sqare Mall', 'Ra Puram', 'Matunga East',\n",
       "       'Manohar Pukur Road', 'Circus Avenue', 'Madhavaram - Manali',\n",
       "       'Central Bengalore', 'Saki Vihar Road', 'Vv Puram',\n",
       "       'Prahlad Nagar', 'Rabindrapally', 'Smarpally Kestopur',\n",
       "       'R.T. Nagar', 'Lower Parel Area', 'Vanasthalipuram', 'Chinar Park',\n",
       "       'Ruby Park', 'Saltlake Sector 1', 'Secunderabad',\n",
       "       'Rohini Sector 7', 'Church Street', 'Sanitytestarea',\n",
       "       'Picnic Garden', 'Knk- Nungambakam (Cds)- Chennai', 'Kalina Ck',\n",
       "       'Residency Road', 'Cg Road', 'Brigade Road', 'South West',\n",
       "       'Hyderguda Old Mla Home', 'Kankurgachi Kolkata',\n",
       "       'Gautam Buddha Nagar', 'Andheri West Area',\n",
       "       'Santacruz East Mumbai.', 'Vardhman Premium Mall', 'Pcmc',\n",
       "       'Lingarajapuram Kammanahalli', 'Nibm Post Office Road',\n",
       "       'Sainik Vihar Pritampura', ' Begumpet', 'Naroda',\n",
       "       'Salunkhe Vihar Road', 'Banjarahills', 'Kurla East Nehru Nagar',\n",
       "       'Keshav Puram', 'Lake Market', 'Borough - Iii', 'New Area',\n",
       "       'Somwarpeth', 'Sarat Park', 'Dindoli', 'Fathima Nagar',\n",
       "       'The New Sion Co-Operative Housing Society', 'Chembur Colony',\n",
       "       'Ghatkopar Ck Mum', 'Rammandir', 'Fdl_Scruz Bandra East',\n",
       "       'Gandhi Bazaar', 'Ramkote', 'Sector 15 Rohini', 'King Koti',\n",
       "       'Bibvewadi', 'Raviwar Peth', 'Gudimalkapur',\n",
       "       'Kestopur Rabindrapally', 'Musheerabad', 'Somwar Peth',\n",
       "       'Gaddi Annaram', 'Balaji Nagar', 'Krishna Nagar Colony',\n",
       "       'Saligramam', 'Sai Nagar', 'Peeragarhi Camp', 'Navjivan',\n",
       "       'Chilakalguda', 'Old Mla Quarters', 'Sector 4 Rohini',\n",
       "       'Rajamohallah', 'Sector 5 Rohini', 'Vikaspuri', 'Ramanthapur',\n",
       "       '3Rd Block Jayanagar', 'Venkateshwara Colony', 'Gandhinagar',\n",
       "       'Secot 24Rohini', 'Nallakunta', 'Kankaria', 'Sindhu Bhavan Road',\n",
       "       'Satara Road Bibvewadi', 'Ganesh Peth', 'Adajan Gam',\n",
       "       'Lord Sinha Rd', 'Bhatha', 'Athwa Gate', 'Vip Road', 'Parvati',\n",
       "       'Naktala', 'Valasaravakkam', 'Girdhar Nagar', 'Madhupura',\n",
       "       'New Textile Market', 'Majura Gate', 'Mahim', 'Yamuna Nagar',\n",
       "       'Kalupur', 'Bhatar Athwa', 'Vishal Nagar', 'Ghodasar',\n",
       "       'Yakhutpura', 'Salabatpura', 'Takara Basthi',\n",
       "       'Gunti Jangaiah Nagar', 'Jashoda Nagar', 'Sardar Colony',\n",
       "       'Katargam', 'Moonlight Cream Sagrampura', 'Gidc Naroda',\n",
       "       'Sanjay Nagar', 'Pankaj Nagar', 'Uttran', 'Hirabaugh',\n",
       "       'Laxmi Encleve - Katargam', 'Krishan Vihar', 'Nangloi',\n",
       "       'Shanti Nagar', 'Odhav', 'Afzal Gunj', 'Begum Bazar', 'Old Wadaj',\n",
       "       'Kadugondanahalli', 'Noble Nagar Tenament', 'Ganj Peth', 'Narol',\n",
       "       'Cambridge Layout', 'Hatkeshwar', 'Singanpor', 'Yoginagar Society',\n",
       "       'Bapunagar', 'Armane Nagar', 'Ashok Bhai- Citylight', 'Kg-Iii',\n",
       "       'Sri Durga Enclave', 'Pocket C-11 Sector 5 Rohini', 'Gomtipur',\n",
       "       'Nalgonda', 'Mg Road', 'Tri Nagar', 'Rani Gunj', 'Rustampura',\n",
       "       'Ghod Dod Road', 'Jayanagar - 3Rd Block', 'Amarpalli',\n",
       "       'Anna Nagar West', 'Kalyan Nagar X Roads', 'Mitul Square Piplod',\n",
       "       'Padma Nagar Colony', 'Rithala Rohini', 'Rabindra Sarovar',\n",
       "       'Dhanakawadi', 'Kailash Plaza', 'Mogappair', 'Prashant Vihar',\n",
       "       ' Akhbar Nagar Circle', 'Mogapair', 'Sri Nagar', 'Honey Park',\n",
       "       'Sector -6', 'Umra Jakat', 'Bangur', 'Ghod Dod Road Sarelawadi',\n",
       "       'Uppal - Hyderabad', 'Bhavani Nagar Uppal - Hyderabad',\n",
       "       'Station Road Ghatkopar West', 'Bhagal', 'Jillelaguda', 'Sector 3',\n",
       "       'Karvenagar', 'Sagrampuraathwa', 'Sanjay Nagar New Bel Road',\n",
       "       'Panjarapole Cross Road'], dtype=object)"
      ]
     },
     "execution_count": 21,
     "metadata": {},
     "output_type": "execute_result"
    }
   ],
   "source": [
    "swiggy['Area'].unique()"
   ]
  },
  {
   "cell_type": "code",
   "execution_count": 22,
   "id": "f447e8a6-00b6-4b7a-be96-c7d9dd0c6cd6",
   "metadata": {},
   "outputs": [
    {
     "data": {
      "text/plain": [
       "array(['Bangalore', 'Hyderabad', 'Mumbai', 'Pune', 'Kolkata', 'Delhi',\n",
       "       'Chennai', 'Ahmedabad', 'Surat'], dtype=object)"
      ]
     },
     "execution_count": 22,
     "metadata": {},
     "output_type": "execute_result"
    }
   ],
   "source": [
    "swiggy['City'].unique()"
   ]
  },
  {
   "cell_type": "markdown",
   "id": "57f8f768-7e01-42eb-bb15-6c10b9efaa87",
   "metadata": {},
   "source": [
    " # Number of Restaurants listed in each City"
   ]
  },
  {
   "cell_type": "code",
   "execution_count": 23,
   "id": "c760c09c-1f98-4116-9484-41107f291623",
   "metadata": {},
   "outputs": [
    {
     "data": {
      "text/plain": [
       "City\n",
       "Ahmedabad     709\n",
       "Bangalore     938\n",
       "Chennai      1096\n",
       "Delhi         611\n",
       "Hyderabad    1030\n",
       "Kolkata      1325\n",
       "Mumbai       1253\n",
       "Pune         1080\n",
       "Surat         505\n",
       "Name: Restaurant, dtype: int64"
      ]
     },
     "execution_count": 23,
     "metadata": {},
     "output_type": "execute_result"
    }
   ],
   "source": [
    "Restaurants_listed_in_a_City=swiggy.groupby('City')['Restaurant'].nunique()\n",
    "Restaurants_listed_in_a_City"
   ]
  },
  {
   "cell_type": "code",
   "execution_count": 24,
   "id": "d1c126ee-c3be-41dd-990e-59c16851910b",
   "metadata": {},
   "outputs": [
    {
     "data": {
      "image/png": "[encoded data removed]",
      "text/plain": [
       "<Figure size 1000x800 with 1 Axes>"
      ]
     },
     "metadata": {},
     "output_type": "display_data"
    }
   ],
   "source": [
    "#size of visualization\n",
    "plt.figure(figsize=(10,8))\n",
    "Restaurants_listed_in_a_City.plot(kind='bar', color= '#808B96')\n",
    "plt.xticks(rotation = 360)\n",
    "plt.ylabel('Number of Restaurants')\n",
    "plt.title('Restaurants listed in each City', fontsize= 14)\n",
    "\n",
    "plt.show()"
   ]
  },
  {
   "cell_type": "markdown",
   "id": "1ac74f53-ec07-4f60-a076-563fc333fad9",
   "metadata": {},
   "source": [
    "# Average order amount from each city"
   ]
  },
  {
   "cell_type": "code",
   "execution_count": 12,
   "id": "5e2e7068-9ac5-48dc-8607-5dd449bfa66e",
   "metadata": {},
   "outputs": [
    {
     "data": {
      "text/plain": [
       "City\n",
       "Mumbai       393.794832\n",
       "Bangalore    382.524313\n",
       "Kolkata      362.294205\n",
       "Chennai      356.247740\n",
       "Pune         353.763303\n",
       "Delhi        333.301146\n",
       "Ahmedabad    318.128312\n",
       "Hyderabad    299.926512\n",
       "Surat        270.171875\n",
       "Name: Price, dtype: float64"
      ]
     },
     "execution_count": 12,
     "metadata": {},
     "output_type": "execute_result"
    }
   ],
   "source": [
    "#intial to grp the city \n",
    "#selct price in relation the city- aggregate the price at which order have been placed \n",
    "\n",
    "Average_order_Amount= swiggy.groupby('City')['Price'].mean().sort_values(ascending=False)\n",
    "Average_order_Amount"
   ]
  },
  {
   "cell_type": "code",
   "execution_count": 13,
   "id": "ced39cec-2116-48df-bb6f-7c1e931f217b",
   "metadata": {},
   "outputs": [
    {
     "data": {
      "image/png": "[encoded data removed]",
      "text/plain": [
       "<Figure size 1000x400 with 1 Axes>"
      ]
     },
     "metadata": {},
     "output_type": "display_data"
    }
   ],
   "source": [
    "#size of visualization\n",
    "plt.figure(figsize=(10,4))\n",
    "\n",
    "Average_order_Amount.plot(kind = 'bar', color='lavender')\n",
    "\n",
    "#rotating x axis labels so that its clearly visible\n",
    "plt.xticks(rotation = 360)\n",
    "plt.ylabel('Average Order Price')\n",
    "plt.title('City Average Order Amount', fontsize= 14)\n",
    "plt.show()"
   ]
  },
  {
   "cell_type": "markdown",
   "id": "d5169b85-6b05-4167-8062-c5765398b206",
   "metadata": {},
   "source": [
    "# Minimum and Maximum delivery time based on type of food and its associated restaurants"
   ]
  },
  {
   "cell_type": "code",
   "execution_count": 29,
   "id": "6b1e2dca-9ef9-461c-bfcd-84e0577babb1",
   "metadata": {},
   "outputs": [
    {
     "data": {
      "text/plain": [
       "Food type                                                              Restaurant             \n",
       "Ice Cream,Desserts,Beverages                                           Scoops                     20\n",
       "Indian,Chinese                                                         Wah Ji Wah ( Budhvihar)    21\n",
       "Beverages,Chinese,Punjabi                                              Sarvottam Restaurant       22\n",
       "Haleem,Arabian,Biryani,Tandoor,Chinese,Indian,Desserts,Kebabs,Mughlai  Hotel Niagara              23\n",
       "Ice Cream,Desserts                                                     Nic Natural Ice Creams     23\n",
       "Desserts  Ice Cream  Chaat                                             Scoops                     24\n",
       "Ice Cream                                                              Famous Ice Cream           24\n",
       "Punjabi,Thalis,Combo,North Indian,Mughlai,Gujarati,Biryani             Jalaram Khichdi            24\n",
       "Ice Cream,Desserts                                                     Apsara Ice Creams          24\n",
       "Biryani,Tandoor,Chinese,Indian,Kebabs,Desserts                         Grand Hotel                24\n",
       "Name: Delivery time, dtype: int64"
      ]
     },
     "execution_count": 29,
     "metadata": {},
     "output_type": "execute_result"
    }
   ],
   "source": [
    "#Double grouping of Food Type and restaurants\n",
    "#selecting delivery time and checking its minimum time taken for delivery\n",
    "\n",
    "\n",
    "Min_delivery_time= swiggy.groupby(['Food type','Restaurant'])['Delivery time'].min().sort_values().head(10)\n",
    "Min_delivery_time"
   ]
  },
  {
   "cell_type": "code",
   "execution_count": 33,
   "id": "abb0c857-1c3f-4237-afb9-8bc15c3fb66a",
   "metadata": {},
   "outputs": [
    {
     "data": {
      "image/png": "[encoded data removed]",
      "text/plain": [
       "<Figure size 1000x800 with 1 Axes>"
      ]
     },
     "metadata": {},
     "output_type": "display_data"
    }
   ],
   "source": [
    "plt.figure(figsize=(10,8))\n",
    "Min_delivery_time.plot(kind='barh')\n",
    "plt.xlabel('Time Taken to deliver')\n",
    "plt.show()"
   ]
  },
  {
   "cell_type": "code",
   "execution_count": 35,
   "id": "01db51a4-78e1-4e85-8d94-ea191da65c44",
   "metadata": {},
   "outputs": [
    {
     "data": {
      "text/plain": [
       "Food type                                            Restaurant                    \n",
       "Indian                                               Heavens Kitchen                   109\n",
       "Chinese,Desserts                                     Yin Yang - Pan Asian Delicacy     100\n",
       "Chinese,Pastas                                       Tamang'S Frozen Momo               98\n",
       "Fast Food                                            Sandwizz                           98\n",
       "Chinese                                              Fatty Mamma Chinese Restaurant     98\n",
       "Indian                                               Dastaan                            98\n",
       "North Indian                                         Shree Ganesh Home Kitchen          98\n",
       "Indian,Rajasthani,Punjabi,Thalis,Desserts,Beverages  Nisha'S Veg Kitchen                97\n",
       "Chinese,Seafood                                      Red Chilli Restaurant              97\n",
       "North Indian                                         Me & U                             97\n",
       "Name: Delivery time, dtype: int64"
      ]
     },
     "execution_count": 35,
     "metadata": {},
     "output_type": "execute_result"
    }
   ],
   "source": [
    "#Double grouping of Food Type and restaurants\n",
    "#selecting delivery time and checking its maximum time taken for delivery\n",
    "Max_delivery_time= swiggy.groupby(['Food type','Restaurant'])['Delivery time'].max().sort_values(ascending=False).head(10)\n",
    "Max_delivery_time"
   ]
  },
  {
   "cell_type": "code",
   "execution_count": 36,
   "id": "33b7609a-f36a-4344-8f28-348f8692a37a",
   "metadata": {},
   "outputs": [
    {
     "data": {
      "image/png": "[encoded data removed]",
      "text/plain": [
       "<Figure size 1000x800 with 1 Axes>"
      ]
     },
     "metadata": {},
     "output_type": "display_data"
    }
   ],
   "source": [
    "plt.figure(figsize=(10,8))\n",
    "Max_delivery_time.plot(kind='barh')\n",
    "plt.xlabel('Time Taken to deliver')\n",
    "plt.show()"
   ]
  },
  {
   "cell_type": "markdown",
   "id": "a2f90818-6d96-470d-9378-6d7627e42112",
   "metadata": {},
   "source": [
    "# Finding the quality of food served in each city based on the average rating by the comsumers"
   ]
  },
  {
   "cell_type": "code",
   "execution_count": 37,
   "id": "b4313b01-eacd-4c5e-bdd7-27f9fcc54fd0",
   "metadata": {},
   "outputs": [
    {
     "data": {
      "text/html": [
       "<div>\n",
       "<style scoped>\n",
       "    .dataframe tbody tr th:only-of-type {\n",
       "        vertical-align: middle;\n",
       "    }\n",
       "\n",
       "    .dataframe tbody tr th {\n",
       "        vertical-align: top;\n",
       "    }\n",
       "\n",
       "    .dataframe thead th {\n",
       "        text-align: right;\n",
       "    }\n",
       "</style>\n",
       "<table border=\"1\" class=\"dataframe\">\n",
       "  <thead>\n",
       "    <tr style=\"text-align: right;\">\n",
       "      <th></th>\n",
       "      <th>ID</th>\n",
       "      <th>Area</th>\n",
       "      <th>City</th>\n",
       "      <th>Restaurant</th>\n",
       "      <th>Price</th>\n",
       "      <th>Avg ratings</th>\n",
       "      <th>Total ratings</th>\n",
       "      <th>Food type</th>\n",
       "      <th>Address</th>\n",
       "      <th>Delivery time</th>\n",
       "    </tr>\n",
       "  </thead>\n",
       "  <tbody>\n",
       "    <tr>\n",
       "      <th>0</th>\n",
       "      <td>211</td>\n",
       "      <td>Koramangala</td>\n",
       "      <td>Bangalore</td>\n",
       "      <td>Tandoor Hut</td>\n",
       "      <td>300</td>\n",
       "      <td>4.4</td>\n",
       "      <td>100</td>\n",
       "      <td>Biryani,Chinese,North Indian,South Indian</td>\n",
       "      <td>5Th Block</td>\n",
       "      <td>59</td>\n",
       "    </tr>\n",
       "    <tr>\n",
       "      <th>1</th>\n",
       "      <td>221</td>\n",
       "      <td>Koramangala</td>\n",
       "      <td>Bangalore</td>\n",
       "      <td>Tunday Kababi</td>\n",
       "      <td>300</td>\n",
       "      <td>4.1</td>\n",
       "      <td>100</td>\n",
       "      <td>Mughlai,Lucknowi</td>\n",
       "      <td>5Th Block</td>\n",
       "      <td>56</td>\n",
       "    </tr>\n",
       "    <tr>\n",
       "      <th>2</th>\n",
       "      <td>246</td>\n",
       "      <td>Jogupalya</td>\n",
       "      <td>Bangalore</td>\n",
       "      <td>Kim Lee</td>\n",
       "      <td>650</td>\n",
       "      <td>4.4</td>\n",
       "      <td>100</td>\n",
       "      <td>Chinese</td>\n",
       "      <td>Double Road</td>\n",
       "      <td>50</td>\n",
       "    </tr>\n",
       "    <tr>\n",
       "      <th>3</th>\n",
       "      <td>248</td>\n",
       "      <td>Indiranagar</td>\n",
       "      <td>Bangalore</td>\n",
       "      <td>New Punjabi Hotel</td>\n",
       "      <td>250</td>\n",
       "      <td>3.9</td>\n",
       "      <td>500</td>\n",
       "      <td>North Indian,Punjabi,Tandoor,Chinese</td>\n",
       "      <td>80 Feet Road</td>\n",
       "      <td>57</td>\n",
       "    </tr>\n",
       "    <tr>\n",
       "      <th>4</th>\n",
       "      <td>249</td>\n",
       "      <td>Indiranagar</td>\n",
       "      <td>Bangalore</td>\n",
       "      <td>Nh8</td>\n",
       "      <td>350</td>\n",
       "      <td>4.0</td>\n",
       "      <td>50</td>\n",
       "      <td>Rajasthani,Gujarati,North Indian,Snacks,Desser...</td>\n",
       "      <td>80 Feet Road</td>\n",
       "      <td>63</td>\n",
       "    </tr>\n",
       "    <tr>\n",
       "      <th>...</th>\n",
       "      <td>...</td>\n",
       "      <td>...</td>\n",
       "      <td>...</td>\n",
       "      <td>...</td>\n",
       "      <td>...</td>\n",
       "      <td>...</td>\n",
       "      <td>...</td>\n",
       "      <td>...</td>\n",
       "      <td>...</td>\n",
       "      <td>...</td>\n",
       "    </tr>\n",
       "    <tr>\n",
       "      <th>8675</th>\n",
       "      <td>464626</td>\n",
       "      <td>Panjarapole Cross Road</td>\n",
       "      <td>Ahmedabad</td>\n",
       "      <td>Malt Pizza</td>\n",
       "      <td>500</td>\n",
       "      <td>2.9</td>\n",
       "      <td>80</td>\n",
       "      <td>Pizzas</td>\n",
       "      <td>Navrangpura</td>\n",
       "      <td>40</td>\n",
       "    </tr>\n",
       "    <tr>\n",
       "      <th>8676</th>\n",
       "      <td>465835</td>\n",
       "      <td>Rohini</td>\n",
       "      <td>Delhi</td>\n",
       "      <td>Jay Mata Ji Home Kitchen</td>\n",
       "      <td>200</td>\n",
       "      <td>2.9</td>\n",
       "      <td>80</td>\n",
       "      <td>South Indian</td>\n",
       "      <td>Rohini</td>\n",
       "      <td>28</td>\n",
       "    </tr>\n",
       "    <tr>\n",
       "      <th>8677</th>\n",
       "      <td>465872</td>\n",
       "      <td>Rohini</td>\n",
       "      <td>Delhi</td>\n",
       "      <td>Chinese Kitchen King</td>\n",
       "      <td>150</td>\n",
       "      <td>2.9</td>\n",
       "      <td>80</td>\n",
       "      <td>Chinese,Snacks,Tandoor</td>\n",
       "      <td>Rohini</td>\n",
       "      <td>58</td>\n",
       "    </tr>\n",
       "    <tr>\n",
       "      <th>8678</th>\n",
       "      <td>465990</td>\n",
       "      <td>Rohini</td>\n",
       "      <td>Delhi</td>\n",
       "      <td>Shree Ram Paratha Wala</td>\n",
       "      <td>150</td>\n",
       "      <td>2.9</td>\n",
       "      <td>80</td>\n",
       "      <td>North Indian,Indian,Snacks</td>\n",
       "      <td>Rohini</td>\n",
       "      <td>28</td>\n",
       "    </tr>\n",
       "    <tr>\n",
       "      <th>8679</th>\n",
       "      <td>466488</td>\n",
       "      <td>Navrangpura</td>\n",
       "      <td>Ahmedabad</td>\n",
       "      <td>Sassy Street</td>\n",
       "      <td>250</td>\n",
       "      <td>2.9</td>\n",
       "      <td>80</td>\n",
       "      <td>Chaat,Snacks,Chinese</td>\n",
       "      <td>Navrangpura</td>\n",
       "      <td>44</td>\n",
       "    </tr>\n",
       "  </tbody>\n",
       "</table>\n",
       "<p>8680 rows × 10 columns</p>\n",
       "</div>"
      ],
      "text/plain": [
       "          ID                    Area       City                Restaurant  \\\n",
       "0        211             Koramangala  Bangalore               Tandoor Hut   \n",
       "1        221             Koramangala  Bangalore             Tunday Kababi   \n",
       "2        246               Jogupalya  Bangalore                   Kim Lee   \n",
       "3        248             Indiranagar  Bangalore         New Punjabi Hotel   \n",
       "4        249             Indiranagar  Bangalore                       Nh8   \n",
       "...      ...                     ...        ...                       ...   \n",
       "8675  464626  Panjarapole Cross Road  Ahmedabad                Malt Pizza   \n",
       "8676  465835                  Rohini      Delhi  Jay Mata Ji Home Kitchen   \n",
       "8677  465872                  Rohini      Delhi      Chinese Kitchen King   \n",
       "8678  465990                  Rohini      Delhi    Shree Ram Paratha Wala   \n",
       "8679  466488             Navrangpura  Ahmedabad              Sassy Street   \n",
       "\n",
       "      Price  Avg ratings  Total ratings  \\\n",
       "0       300          4.4            100   \n",
       "1       300          4.1            100   \n",
       "2       650          4.4            100   \n",
       "3       250          3.9            500   \n",
       "4       350          4.0             50   \n",
       "...     ...          ...            ...   \n",
       "8675    500          2.9             80   \n",
       "8676    200          2.9             80   \n",
       "8677    150          2.9             80   \n",
       "8678    150          2.9             80   \n",
       "8679    250          2.9             80   \n",
       "\n",
       "                                              Food type       Address  \\\n",
       "0             Biryani,Chinese,North Indian,South Indian     5Th Block   \n",
       "1                                      Mughlai,Lucknowi     5Th Block   \n",
       "2                                               Chinese   Double Road   \n",
       "3                  North Indian,Punjabi,Tandoor,Chinese  80 Feet Road   \n",
       "4     Rajasthani,Gujarati,North Indian,Snacks,Desser...  80 Feet Road   \n",
       "...                                                 ...           ...   \n",
       "8675                                             Pizzas   Navrangpura   \n",
       "8676                                       South Indian        Rohini   \n",
       "8677                             Chinese,Snacks,Tandoor        Rohini   \n",
       "8678                         North Indian,Indian,Snacks        Rohini   \n",
       "8679                               Chaat,Snacks,Chinese   Navrangpura   \n",
       "\n",
       "      Delivery time  \n",
       "0                59  \n",
       "1                56  \n",
       "2                50  \n",
       "3                57  \n",
       "4                63  \n",
       "...             ...  \n",
       "8675             40  \n",
       "8676             28  \n",
       "8677             58  \n",
       "8678             28  \n",
       "8679             44  \n",
       "\n",
       "[8680 rows x 10 columns]"
      ]
     },
     "execution_count": 37,
     "metadata": {},
     "output_type": "execute_result"
    }
   ],
   "source": [
    "swiggy"
   ]
  },
  {
   "cell_type": "code",
   "execution_count": 39,
   "id": "aac3f4e5-9242-49cd-bd95-e4f72901c5b7",
   "metadata": {},
   "outputs": [
    {
     "data": {
      "text/plain": [
       "City\n",
       "Chennai      3.776311\n",
       "Bangalore    3.762896\n",
       "Hyderabad    3.701395\n",
       "Kolkata      3.698811\n",
       "Mumbai       3.599374\n",
       "Ahmedabad    3.596513\n",
       "Surat        3.580078\n",
       "Pune         3.550183\n",
       "Delhi        3.526350\n",
       "Name: Avg ratings, dtype: float64"
      ]
     },
     "execution_count": 39,
     "metadata": {},
     "output_type": "execute_result"
    }
   ],
   "source": [
    "# Group by City and calculate the mean of Avg ratings \n",
    "s= swiggy.groupby('City')['Avg ratings'].mean().sort_values(ascending=False)\n",
    "s"
   ]
  },
  {
   "cell_type": "code",
   "execution_count": 40,
   "id": "d2988713-4a38-49bd-8aed-a856083a5d92",
   "metadata": {},
   "outputs": [
    {
     "data": {
      "image/png": "[encoded data removed]",
      "text/plain": [
       "<Figure size 1000x800 with 1 Axes>"
      ]
     },
     "metadata": {},
     "output_type": "display_data"
    }
   ],
   "source": [
    "plt.figure(figsize=(10,8))\n",
    "s.plot(kind='line', color = \"black\")\n",
    "plt.show()"
   ]
  },
  {
   "cell_type": "markdown",
   "id": "baad95cb-e6bd-4685-bd33-a31dda924af6",
   "metadata": {},
   "source": [
    "# Finding highest order received area wise for all cities"
   ]
  },
  {
   "cell_type": "code",
   "execution_count": 42,
   "id": "26fc8d72-6332-4913-9348-34289616b187",
   "metadata": {},
   "outputs": [],
   "source": [
    "# Steps used for all the cities\n",
    "\n",
    "# filtering the city for each city\n",
    "# Selecting Area associated to each city\n",
    "# Counting the areas which is repeated in data and selecting the highest occurance of area\n"
   ]
  },
  {
   "cell_type": "code",
   "execution_count": 45,
   "id": "da7ecc26-592d-49ce-98ed-6422e949a89f",
   "metadata": {},
   "outputs": [
    {
     "data": {
      "text/plain": [
       "Area\n",
       "Indiranagar    130\n",
       "Name: count, dtype: int64"
      ]
     },
     "execution_count": 45,
     "metadata": {},
     "output_type": "execute_result"
    }
   ],
   "source": [
    "Bangalore_Area=swiggy[(swiggy['City'] == 'Bangalore')]['Area'].value_counts().sort_values(ascending=False).head(1)\n",
    "Bangalore_Area"
   ]
  },
  {
   "cell_type": "code",
   "execution_count": 46,
   "id": "7713a68e-265d-4db7-b9eb-33cac6520935",
   "metadata": {},
   "outputs": [
    {
     "data": {
      "text/plain": [
       "Area\n",
       "Navrangpura    132\n",
       "Name: count, dtype: int64"
      ]
     },
     "execution_count": 46,
     "metadata": {},
     "output_type": "execute_result"
    }
   ],
   "source": [
    "Ahmedabad_Area=swiggy[(swiggy['City'] == 'Ahmedabad')]['Area'].value_counts().sort_values(ascending=False).head(1)\n",
    "Ahmedabad_Area"
   ]
  },
  {
   "cell_type": "code",
   "execution_count": 47,
   "id": "79443775-5630-4b41-b492-edf95792c37f",
   "metadata": {},
   "outputs": [
    {
     "data": {
      "text/plain": [
       "Area\n",
       "Athwa    99\n",
       "Name: count, dtype: int64"
      ]
     },
     "execution_count": 47,
     "metadata": {},
     "output_type": "execute_result"
    }
   ],
   "source": [
    "Surat_Area=swiggy[(swiggy['City'] == 'Surat')]['Area'].value_counts().sort_values(ascending=False).head(1)\n",
    "Surat_Area"
   ]
  },
  {
   "cell_type": "code",
   "execution_count": 48,
   "id": "21894d64-3ec5-494b-a86e-e92cac9b6321",
   "metadata": {},
   "outputs": [
    {
     "data": {
      "text/plain": [
       "Area\n",
       "Rohini    257\n",
       "Name: count, dtype: int64"
      ]
     },
     "execution_count": 48,
     "metadata": {},
     "output_type": "execute_result"
    }
   ],
   "source": [
    "Delhi_Area=swiggy[(swiggy['City'] == 'Delhi')]['Area'].value_counts().sort_values(ascending=False).head(1)\n",
    "Delhi_Area"
   ]
  },
  {
   "cell_type": "code",
   "execution_count": 49,
   "id": "b1ad3121-5d0a-4260-b67b-5718e6890a3f",
   "metadata": {},
   "outputs": [
    {
     "data": {
      "text/plain": [
       "Area\n",
       "Chembur    208\n",
       "Name: count, dtype: int64"
      ]
     },
     "execution_count": 49,
     "metadata": {},
     "output_type": "execute_result"
    }
   ],
   "source": [
    "Mumbai_Area=swiggy[(swiggy['City'] == 'Mumbai')]['Area'].value_counts().sort_values(ascending=False).head(1)\n",
    "Mumbai_Area"
   ]
  },
  {
   "cell_type": "code",
   "execution_count": 50,
   "id": "14d2e0e8-5dd9-49ab-ae70-ab9fd919c6e0",
   "metadata": {},
   "outputs": [
    {
     "data": {
      "text/plain": [
       "Area\n",
       "Banjara Hills    113\n",
       "Name: count, dtype: int64"
      ]
     },
     "execution_count": 50,
     "metadata": {},
     "output_type": "execute_result"
    }
   ],
   "source": [
    "Hyderabad_Area=swiggy[(swiggy['City'] == 'Hyderabad')]['Area'].value_counts().sort_values(ascending=False).head(1)\n",
    "Hyderabad_Area"
   ]
  },
  {
   "cell_type": "code",
   "execution_count": 51,
   "id": "7f4017a6-392d-41fc-a1c0-5560dff6f083",
   "metadata": {},
   "outputs": [
    {
     "data": {
      "text/plain": [
       "Area\n",
       "Bidhannagar    123\n",
       "Name: count, dtype: int64"
      ]
     },
     "execution_count": 51,
     "metadata": {},
     "output_type": "execute_result"
    }
   ],
   "source": [
    "Kolkata_Area=swiggy[(swiggy['City'] == 'Kolkata')]['Area'].value_counts().sort_values(ascending=False).head(1)\n",
    "Kolkata_Area"
   ]
  },
  {
   "cell_type": "code",
   "execution_count": 52,
   "id": "ebf42dcb-35f7-4bd1-8ed2-0a954db79b44",
   "metadata": {},
   "outputs": [
    {
     "data": {
      "text/plain": [
       "Area\n",
       "Perambur    89\n",
       "Name: count, dtype: int64"
      ]
     },
     "execution_count": 52,
     "metadata": {},
     "output_type": "execute_result"
    }
   ],
   "source": [
    "Chennai_Area=swiggy[(swiggy['City'] == 'Chennai')]['Area'].value_counts().sort_values(ascending=False).head(1)\n",
    "Chennai_Area"
   ]
  },
  {
   "cell_type": "code",
   "execution_count": 53,
   "id": "9ddcd820-a72b-46e1-a8af-609780bee73a",
   "metadata": {},
   "outputs": [
    {
     "data": {
      "text/plain": [
       "Area\n",
       "Kothrud    149\n",
       "Name: count, dtype: int64"
      ]
     },
     "execution_count": 53,
     "metadata": {},
     "output_type": "execute_result"
    }
   ],
   "source": [
    "Pune_Area=swiggy[(swiggy['City'] == 'Pune')]['Area'].value_counts().sort_values(ascending=False).head(1)\n",
    "Pune_Area"
   ]
  },
  {
   "cell_type": "code",
   "execution_count": 54,
   "id": "13c1a508-8cbe-4c54-bbf8-3c77248ed2fc",
   "metadata": {},
   "outputs": [
    {
     "data": {
      "image/png": "[encoded data removed]",
      "text/plain": [
       "<Figure size 1200x800 with 1 Axes>"
      ]
     },
     "metadata": {},
     "output_type": "display_data"
    }
   ],
   "source": [
    "#ladeling the values receceived by its city and areas\n",
    "areas = ['Ahmedabad-Navrangpura', 'Surat-Athwa', 'Delhi-Rohini', 'Hyderabad-Banjara Hills','Bangalore-Indiranagar','Mumbai-Chembur','Kolkata-Bidhannagar','Chennai-Perambur','Pune-Kothrud']\n",
    "\n",
    "#Assigning the values of each city wo combine the data for data visualisation \n",
    "orders = [Ahmedabad_Area.values[0], Surat_Area.values[0], Delhi_Area.values[0], Hyderabad_Area.values[0],Bangalore_Area.values[0],Mumbai_Area.values[0],Kolkata_Area.values[0],Chennai_Area.values[0],Pune_Area.values[0]]\n",
    "\n",
    "\n",
    "#Assigning colors for each section \n",
    "colors=['#F5B7B1','#D2B4DE','#A9CCE3','#A2D9CE','#ABEBC6','#FAD7A0','#EDBB99','#E5E7E9','#CCD1D1'] #Source-https://htmlcolorcodes.com/\n",
    "\n",
    "\n",
    "plt.figure(figsize=(12, 8))\n",
    "plt.pie(orders, labels=areas, autopct='%.2f%%', colors= colors)\n",
    "plt.title('Maximum Order Areas for Each City')\n",
    "plt.show()"
   ]
  },
  {
   "cell_type": "markdown",
   "id": "7d2ecb89-6a76-4d22-8810-f9cbc02efc1f",
   "metadata": {},
   "source": [
    "# Top restaurants in each city based on mean average ratings"
   ]
  },
  {
   "cell_type": "code",
   "execution_count": 55,
   "id": "64e47ed3-1945-49d6-ad31-df49405bf2c6",
   "metadata": {},
   "outputs": [
    {
     "data": {
      "text/html": [
       "<div>\n",
       "<style scoped>\n",
       "    .dataframe tbody tr th:only-of-type {\n",
       "        vertical-align: middle;\n",
       "    }\n",
       "\n",
       "    .dataframe tbody tr th {\n",
       "        vertical-align: top;\n",
       "    }\n",
       "\n",
       "    .dataframe thead th {\n",
       "        text-align: right;\n",
       "    }\n",
       "</style>\n",
       "<table border=\"1\" class=\"dataframe\">\n",
       "  <thead>\n",
       "    <tr style=\"text-align: right;\">\n",
       "      <th></th>\n",
       "      <th>ID</th>\n",
       "      <th>Area</th>\n",
       "      <th>City</th>\n",
       "      <th>Restaurant</th>\n",
       "      <th>Price</th>\n",
       "      <th>Avg ratings</th>\n",
       "      <th>Total ratings</th>\n",
       "      <th>Food type</th>\n",
       "      <th>Address</th>\n",
       "      <th>Delivery time</th>\n",
       "    </tr>\n",
       "  </thead>\n",
       "  <tbody>\n",
       "    <tr>\n",
       "      <th>0</th>\n",
       "      <td>211</td>\n",
       "      <td>Koramangala</td>\n",
       "      <td>Bangalore</td>\n",
       "      <td>Tandoor Hut</td>\n",
       "      <td>300</td>\n",
       "      <td>4.4</td>\n",
       "      <td>100</td>\n",
       "      <td>Biryani,Chinese,North Indian,South Indian</td>\n",
       "      <td>5Th Block</td>\n",
       "      <td>59</td>\n",
       "    </tr>\n",
       "    <tr>\n",
       "      <th>1</th>\n",
       "      <td>221</td>\n",
       "      <td>Koramangala</td>\n",
       "      <td>Bangalore</td>\n",
       "      <td>Tunday Kababi</td>\n",
       "      <td>300</td>\n",
       "      <td>4.1</td>\n",
       "      <td>100</td>\n",
       "      <td>Mughlai,Lucknowi</td>\n",
       "      <td>5Th Block</td>\n",
       "      <td>56</td>\n",
       "    </tr>\n",
       "    <tr>\n",
       "      <th>2</th>\n",
       "      <td>246</td>\n",
       "      <td>Jogupalya</td>\n",
       "      <td>Bangalore</td>\n",
       "      <td>Kim Lee</td>\n",
       "      <td>650</td>\n",
       "      <td>4.4</td>\n",
       "      <td>100</td>\n",
       "      <td>Chinese</td>\n",
       "      <td>Double Road</td>\n",
       "      <td>50</td>\n",
       "    </tr>\n",
       "    <tr>\n",
       "      <th>3</th>\n",
       "      <td>248</td>\n",
       "      <td>Indiranagar</td>\n",
       "      <td>Bangalore</td>\n",
       "      <td>New Punjabi Hotel</td>\n",
       "      <td>250</td>\n",
       "      <td>3.9</td>\n",
       "      <td>500</td>\n",
       "      <td>North Indian,Punjabi,Tandoor,Chinese</td>\n",
       "      <td>80 Feet Road</td>\n",
       "      <td>57</td>\n",
       "    </tr>\n",
       "    <tr>\n",
       "      <th>4</th>\n",
       "      <td>249</td>\n",
       "      <td>Indiranagar</td>\n",
       "      <td>Bangalore</td>\n",
       "      <td>Nh8</td>\n",
       "      <td>350</td>\n",
       "      <td>4.0</td>\n",
       "      <td>50</td>\n",
       "      <td>Rajasthani,Gujarati,North Indian,Snacks,Desser...</td>\n",
       "      <td>80 Feet Road</td>\n",
       "      <td>63</td>\n",
       "    </tr>\n",
       "    <tr>\n",
       "      <th>...</th>\n",
       "      <td>...</td>\n",
       "      <td>...</td>\n",
       "      <td>...</td>\n",
       "      <td>...</td>\n",
       "      <td>...</td>\n",
       "      <td>...</td>\n",
       "      <td>...</td>\n",
       "      <td>...</td>\n",
       "      <td>...</td>\n",
       "      <td>...</td>\n",
       "    </tr>\n",
       "    <tr>\n",
       "      <th>8675</th>\n",
       "      <td>464626</td>\n",
       "      <td>Panjarapole Cross Road</td>\n",
       "      <td>Ahmedabad</td>\n",
       "      <td>Malt Pizza</td>\n",
       "      <td>500</td>\n",
       "      <td>2.9</td>\n",
       "      <td>80</td>\n",
       "      <td>Pizzas</td>\n",
       "      <td>Navrangpura</td>\n",
       "      <td>40</td>\n",
       "    </tr>\n",
       "    <tr>\n",
       "      <th>8676</th>\n",
       "      <td>465835</td>\n",
       "      <td>Rohini</td>\n",
       "      <td>Delhi</td>\n",
       "      <td>Jay Mata Ji Home Kitchen</td>\n",
       "      <td>200</td>\n",
       "      <td>2.9</td>\n",
       "      <td>80</td>\n",
       "      <td>South Indian</td>\n",
       "      <td>Rohini</td>\n",
       "      <td>28</td>\n",
       "    </tr>\n",
       "    <tr>\n",
       "      <th>8677</th>\n",
       "      <td>465872</td>\n",
       "      <td>Rohini</td>\n",
       "      <td>Delhi</td>\n",
       "      <td>Chinese Kitchen King</td>\n",
       "      <td>150</td>\n",
       "      <td>2.9</td>\n",
       "      <td>80</td>\n",
       "      <td>Chinese,Snacks,Tandoor</td>\n",
       "      <td>Rohini</td>\n",
       "      <td>58</td>\n",
       "    </tr>\n",
       "    <tr>\n",
       "      <th>8678</th>\n",
       "      <td>465990</td>\n",
       "      <td>Rohini</td>\n",
       "      <td>Delhi</td>\n",
       "      <td>Shree Ram Paratha Wala</td>\n",
       "      <td>150</td>\n",
       "      <td>2.9</td>\n",
       "      <td>80</td>\n",
       "      <td>North Indian,Indian,Snacks</td>\n",
       "      <td>Rohini</td>\n",
       "      <td>28</td>\n",
       "    </tr>\n",
       "    <tr>\n",
       "      <th>8679</th>\n",
       "      <td>466488</td>\n",
       "      <td>Navrangpura</td>\n",
       "      <td>Ahmedabad</td>\n",
       "      <td>Sassy Street</td>\n",
       "      <td>250</td>\n",
       "      <td>2.9</td>\n",
       "      <td>80</td>\n",
       "      <td>Chaat,Snacks,Chinese</td>\n",
       "      <td>Navrangpura</td>\n",
       "      <td>44</td>\n",
       "    </tr>\n",
       "  </tbody>\n",
       "</table>\n",
       "<p>8680 rows × 10 columns</p>\n",
       "</div>"
      ],
      "text/plain": [
       "          ID                    Area       City                Restaurant  \\\n",
       "0        211             Koramangala  Bangalore               Tandoor Hut   \n",
       "1        221             Koramangala  Bangalore             Tunday Kababi   \n",
       "2        246               Jogupalya  Bangalore                   Kim Lee   \n",
       "3        248             Indiranagar  Bangalore         New Punjabi Hotel   \n",
       "4        249             Indiranagar  Bangalore                       Nh8   \n",
       "...      ...                     ...        ...                       ...   \n",
       "8675  464626  Panjarapole Cross Road  Ahmedabad                Malt Pizza   \n",
       "8676  465835                  Rohini      Delhi  Jay Mata Ji Home Kitchen   \n",
       "8677  465872                  Rohini      Delhi      Chinese Kitchen King   \n",
       "8678  465990                  Rohini      Delhi    Shree Ram Paratha Wala   \n",
       "8679  466488             Navrangpura  Ahmedabad              Sassy Street   \n",
       "\n",
       "      Price  Avg ratings  Total ratings  \\\n",
       "0       300          4.4            100   \n",
       "1       300          4.1            100   \n",
       "2       650          4.4            100   \n",
       "3       250          3.9            500   \n",
       "4       350          4.0             50   \n",
       "...     ...          ...            ...   \n",
       "8675    500          2.9             80   \n",
       "8676    200          2.9             80   \n",
       "8677    150          2.9             80   \n",
       "8678    150          2.9             80   \n",
       "8679    250          2.9             80   \n",
       "\n",
       "                                              Food type       Address  \\\n",
       "0             Biryani,Chinese,North Indian,South Indian     5Th Block   \n",
       "1                                      Mughlai,Lucknowi     5Th Block   \n",
       "2                                               Chinese   Double Road   \n",
       "3                  North Indian,Punjabi,Tandoor,Chinese  80 Feet Road   \n",
       "4     Rajasthani,Gujarati,North Indian,Snacks,Desser...  80 Feet Road   \n",
       "...                                                 ...           ...   \n",
       "8675                                             Pizzas   Navrangpura   \n",
       "8676                                       South Indian        Rohini   \n",
       "8677                             Chinese,Snacks,Tandoor        Rohini   \n",
       "8678                         North Indian,Indian,Snacks        Rohini   \n",
       "8679                               Chaat,Snacks,Chinese   Navrangpura   \n",
       "\n",
       "      Delivery time  \n",
       "0                59  \n",
       "1                56  \n",
       "2                50  \n",
       "3                57  \n",
       "4                63  \n",
       "...             ...  \n",
       "8675             40  \n",
       "8676             28  \n",
       "8677             58  \n",
       "8678             28  \n",
       "8679             44  \n",
       "\n",
       "[8680 rows x 10 columns]"
      ]
     },
     "execution_count": 55,
     "metadata": {},
     "output_type": "execute_result"
    }
   ],
   "source": [
    "swiggy"
   ]
  },
  {
   "cell_type": "code",
   "execution_count": 57,
   "id": "d85d309b-5e05-4703-8749-b55ac82f4b4c",
   "metadata": {},
   "outputs": [],
   "source": [
    "# Steps used for all the cities\n",
    "#filtering the city for each city\n",
    "#Group the restaurants in relation to each city\n",
    "#Selecting Average rating associated with each restaurant and counting there mean value"
   ]
  },
  {
   "cell_type": "code",
   "execution_count": 59,
   "id": "52ba912e-4281-44b4-92f2-99c974189b14",
   "metadata": {},
   "outputs": [
    {
     "data": {
      "text/plain": [
       "Restaurant\n",
       "Shree Krishna Juice Bar    5.0\n",
       "Papacream                  5.0\n",
       "Gulp                       4.9\n",
       "Rosso Bianco               4.8\n",
       "Arun Ice Creams            4.8\n",
       "Name: Avg ratings, dtype: float64"
      ]
     },
     "execution_count": 59,
     "metadata": {},
     "output_type": "execute_result"
    }
   ],
   "source": [
    "Pune_Restaurant=swiggy[(swiggy['City'] == 'Pune')]\n",
    "Pune_Restaurant\n",
    "#here HAR = Highest Average Rating\n",
    "Pune_Restaurant_HAR= Pune_Restaurant.groupby('Restaurant')['Avg ratings'].mean().sort_values(ascending= False).head()\n",
    "Pune_Restaurant_HAR"
   ]
  },
  {
   "cell_type": "code",
   "execution_count": 60,
   "id": "e2f7f702-05c3-46df-99a2-da5bb3e8ad4e",
   "metadata": {},
   "outputs": [
    {
     "data": {
      "text/plain": [
       "Restaurant\n",
       "Diamond Market Pizza Jp    5.0\n",
       "Cafe Kokomo                5.0\n",
       "Get In My Belly            5.0\n",
       "Nivala Apka Apna           5.0\n",
       "The Asian Pavilion         5.0\n",
       "Name: Avg ratings, dtype: float64"
      ]
     },
     "execution_count": 60,
     "metadata": {},
     "output_type": "execute_result"
    }
   ],
   "source": [
    "Mumbai_Restaurant=swiggy[(swiggy['City'] == 'Mumbai')]\n",
    "Mumbai_Restaurant\n",
    "\n",
    "\n",
    "#here HAR = Highest Average Rating\n",
    "Mumbai_Restaurant_HAR= Mumbai_Restaurant.groupby('Restaurant')['Avg ratings'].mean().sort_values(ascending= False).head()\n",
    "Mumbai_Restaurant_HAR"
   ]
  },
  {
   "cell_type": "code",
   "execution_count": 61,
   "id": "bfc1fd09-3af9-4bdc-8f92-ae89e3774036",
   "metadata": {},
   "outputs": [
    {
     "data": {
      "text/plain": [
       "Restaurant\n",
       "Fat Tiger                                5.0\n",
       "Pizza Paradise By Vhc                    4.8\n",
       "Biryani By Kilo                          4.8\n",
       "The Sugar Free Keto Kafe - By Artinci    4.8\n",
       "Wok On Fire                              4.7\n",
       "Name: Avg ratings, dtype: float64"
      ]
     },
     "execution_count": 61,
     "metadata": {},
     "output_type": "execute_result"
    }
   ],
   "source": [
    "Delhi_Restaurant=swiggy[(swiggy['City'] == 'Delhi')]\n",
    "Delhi_Restaurant\n",
    "\n",
    "\n",
    "#here HAR = Highest Average Rating\n",
    "Delhi_Restaurant_HAR= Delhi_Restaurant.groupby('Restaurant')['Avg ratings'].mean().sort_values(ascending= False).head()\n",
    "Delhi_Restaurant_HAR"
   ]
  },
  {
   "cell_type": "code",
   "execution_count": 62,
   "id": "875bb33f-44f0-477a-ae79-67d9188fc10b",
   "metadata": {},
   "outputs": [
    {
     "data": {
      "text/plain": [
       "Restaurant\n",
       "Keventers Ice Creamery                   5.0\n",
       "Pabrai'S Fresh And Naturelle Icecream    4.9\n",
       "New Maharaj                              4.8\n",
       "Natural Ice Cream                        4.8\n",
       "What'S Your Flavour?                     4.8\n",
       "Name: Avg ratings, dtype: float64"
      ]
     },
     "execution_count": 62,
     "metadata": {},
     "output_type": "execute_result"
    }
   ],
   "source": [
    "Kolkata_Restaurant=swiggy[(swiggy['City'] == 'Kolkata')]\n",
    "Kolkata_Restaurant\n",
    "\n",
    "\n",
    "#here HAR = Highest Average Rating\n",
    "Kolkata_Restaurant_HAR= Kolkata_Restaurant.groupby('Restaurant')['Avg ratings'].mean().sort_values(ascending= False).head()\n",
    "Kolkata_Restaurant_HAR"
   ]
  },
  {
   "cell_type": "code",
   "execution_count": 63,
   "id": "7fb218e0-f69d-44b3-a9b3-92c3b70e9215",
   "metadata": {},
   "outputs": [
    {
     "data": {
      "text/plain": [
       "Restaurant\n",
       "Sobis Diet Farm               4.8\n",
       "Kudrati Kahumbo               4.8\n",
       "The Pancake Story             4.8\n",
       "The Bungalow Cafe             4.7\n",
       "Amardeep Icecream & Juices    4.7\n",
       "Name: Avg ratings, dtype: float64"
      ]
     },
     "execution_count": 63,
     "metadata": {},
     "output_type": "execute_result"
    }
   ],
   "source": [
    "Surat_Restaurant=swiggy[(swiggy['City'] == 'Surat')]\n",
    "Surat_Restaurant\n",
    "\n",
    "\n",
    "#here HAR = Highest Average Rating\n",
    "Surat_Restaurant_HAR= Surat_Restaurant.groupby('Restaurant')['Avg ratings'].mean().sort_values(ascending= False).head()\n",
    "Surat_Restaurant_HAR"
   ]
  },
  {
   "cell_type": "code",
   "execution_count": 64,
   "id": "072f41eb-6635-4d2c-bc61-1e5e05270e68",
   "metadata": {},
   "outputs": [
    {
     "data": {
      "text/plain": [
       "Restaurant\n",
       "Natural Ice Cream                         4.8\n",
       "Ching Chong Chinese                       4.8\n",
       "Wok On Fire - Indo Chinese - Pan Asian    4.8\n",
       "Chup Chaap                                4.8\n",
       "Puffing - The Live Puff                   4.7\n",
       "Name: Avg ratings, dtype: float64"
      ]
     },
     "execution_count": 64,
     "metadata": {},
     "output_type": "execute_result"
    }
   ],
   "source": [
    "Ahmedabad_Restaurant=swiggy[(swiggy['City'] == 'Ahmedabad')]\n",
    "Ahmedabad_Restaurant\n",
    "\n",
    "\n",
    "#here HAR = Highest Average Rating\n",
    "Ahmedabad_Restaurant_HAR=Ahmedabad_Restaurant.groupby('Restaurant')['Avg ratings'].mean().sort_values(ascending= False).head()\n",
    "Ahmedabad_Restaurant_HAR"
   ]
  },
  {
   "cell_type": "code",
   "execution_count": 65,
   "id": "f9d8fd38-c7b7-45d1-9fc7-7bdae4b793f5",
   "metadata": {},
   "outputs": [
    {
     "data": {
      "text/plain": [
       "Restaurant\n",
       "Afresh             5.00\n",
       "1By2               4.90\n",
       "Milkie Mustache    4.90\n",
       "Ricky'S Cookies    4.90\n",
       "Nasi And Mee       4.75\n",
       "Name: Avg ratings, dtype: float64"
      ]
     },
     "execution_count": 65,
     "metadata": {},
     "output_type": "execute_result"
    }
   ],
   "source": [
    "Chennai_Restaurant=swiggy[(swiggy['City'] == 'Chennai')]\n",
    "Chennai_Restaurant\n",
    "\n",
    "\n",
    "#here HAR = Highest Average Rating\n",
    "Chennai_Restaurant_HAR= Chennai_Restaurant.groupby('Restaurant')['Avg ratings'].mean().sort_values(ascending= False).head()\n",
    "Chennai_Restaurant_HAR"
   ]
  },
  {
   "cell_type": "code",
   "execution_count": 66,
   "id": "b1d7f387-0fb7-4c80-bfa4-b7567344311d",
   "metadata": {},
   "outputs": [
    {
     "data": {
      "text/plain": [
       "Restaurant\n",
       "Tricky Shakes             5.0\n",
       "Creams & Bites            5.0\n",
       "Frosty Crumble            4.9\n",
       "Royce' Chocolate          4.9\n",
       "Keventers Ice Creamery    4.9\n",
       "Name: Avg ratings, dtype: float64"
      ]
     },
     "execution_count": 66,
     "metadata": {},
     "output_type": "execute_result"
    }
   ],
   "source": [
    "Bangalore_Restaurant=swiggy[(swiggy['City'] == 'Bangalore')]\n",
    "Bangalore_Restaurant\n",
    "\n",
    "\n",
    "#here HAR = Highest Average Rating\n",
    "Bangalore_Restaurant_HAR= Bangalore_Restaurant.groupby('Restaurant')['Avg ratings'].mean().sort_values(ascending= False).head()\n",
    "Bangalore_Restaurant_HAR"
   ]
  },
  {
   "cell_type": "code",
   "execution_count": 67,
   "id": "5480f504-aea8-4231-a384-fb180f5e9d60",
   "metadata": {},
   "outputs": [
    {
     "data": {
      "text/plain": [
       "Restaurant\n",
       "Splurge - Thickshakes And Milkshakes    5.0\n",
       "Wallonia Waffle Co.                     5.0\n",
       "The Liege Waffles                       5.0\n",
       "Zorro - Milkshakes And Thickshakes      5.0\n",
       "Snack House                             4.9\n",
       "Name: Avg ratings, dtype: float64"
      ]
     },
     "execution_count": 67,
     "metadata": {},
     "output_type": "execute_result"
    }
   ],
   "source": [
    "Hyderabad_Restaurant=swiggy[(swiggy['City'] == 'Hyderabad')]\n",
    "Hyderabad_Restaurant\n",
    "\n",
    "\n",
    "#here HAR = Highest Average Rating\n",
    "Hyderabad_Restaurant_HAR= Hyderabad_Restaurant.groupby('Restaurant')['Avg ratings'].mean().sort_values(ascending= False).head()\n",
    "Hyderabad_Restaurant_HAR"
   ]
  },
  {
   "cell_type": "markdown",
   "id": "5bb62918-65dd-4d64-bde6-92d280b76913",
   "metadata": {},
   "source": [
    "# Overall Analysis"
   ]
  },
  {
   "cell_type": "code",
   "execution_count": 70,
   "id": "5d3eeaea-c979-42f0-bd0e-c542f21eed9d",
   "metadata": {},
   "outputs": [],
   "source": [
    "\n",
    "# The current dataset of Swiggy contains data of 9 cities of the country-Mumbai,Bangalore,Kolkata,Chennai,Pune,Delhi,Ahmedabad,Hyderabad,Surat\n",
    "\n",
    "# Kolkata, Mumbai and Hyderabad have the highest restaurants listed\n",
    "# Average order in states Mumbai,Bangalore, Kolkata, Chennai and Pune are higher when compared to other with average order rate of rs.350 and above\n",
    "# Eatables like Ice cream and chinese fastfood take less time to deliver within a time frame of 20 to 25 mins\n",
    "# Particular cuisine like seafood,Indian Thali's resgional food , Pan asian delicacy, Chinese restaurants takes more than 1 hr to deliver food as the preparation of these food kind takes time\n",
    "# Based on Average rating of all consumers in all city, Chennai Bangalore and Hyderabad Serves better quality food\n",
    "# Areas with maimum order are from city Delhi,Mumbai,Ahmedabad\n",
    "# Few highest rated restaurants based on each city are- majorly milkshake and thickshake outlets, icecream,waffles, Pizza, chinese restaurants, Pan Asian restaurants"
   ]
  },
  {
   "cell_type": "code",
   "execution_count": null,
   "id": "70bfad77-4372-4095-92c4-852930366610",
   "metadata": {},
   "outputs": [],
   "source": []
  }
 ],
 "metadata": {
  "kernelspec": {
   "display_name": "Python 3 (ipykernel)",
   "language": "python",
   "name": "python3"
  },
  "language_info": {
   "codemirror_mode": {
    "name": "ipython",
    "version": 3
   },
   "file_extension": ".py",
   "mimetype": "text/x-python",
   "name": "python",
   "nbconvert_exporter": "python",
   "pygments_lexer": "ipython3",
   "version": "3.11.7"
  }
 },
 "nbformat": 4,
 "nbformat_minor": 5
}
